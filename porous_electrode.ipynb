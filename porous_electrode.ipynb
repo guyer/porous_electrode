{
 "cells": [
  {
   "cell_type": "markdown",
   "id": "australian-graph",
   "metadata": {},
   "source": [
    "# Porous Electrode FiPy model"
   ]
  },
  {
   "cell_type": "markdown",
   "id": "provincial-custom",
   "metadata": {},
   "source": [
    "Troubleshooting of model presented by [@JDS19](https://github.com/JDS19) in [usnistgov/fipy#788](https://github.com/usnistgov/fipy/issues/788)\n",
    "\n",
    "Based on Newman, J., & Tiedemann, W. (1974). POROUS-ELECTRODE THEORY WITH BATTERY APPLICATIONS. *Lawrence Berkeley National Laboratory. LBNL Report #: LBL-3117*. Retrieved from https://escholarship.org/uc/item/9vd6z2g7."
   ]
  },
  {
   "cell_type": "code",
   "execution_count": 3,
   "id": "electronic-feeding",
   "metadata": {
    "ExecuteTime": {
     "end_time": "2021-03-19T16:15:19.914071Z",
     "start_time": "2021-03-19T16:15:19.882425Z"
    }
   },
   "outputs": [],
   "source": [
    "%matplotlib inline"
   ]
  },
  {
   "cell_type": "code",
   "execution_count": 18,
   "id": "floating-microphone",
   "metadata": {
    "ExecuteTime": {
     "end_time": "2021-03-19T16:16:27.962287Z",
     "start_time": "2021-03-19T16:16:27.959506Z"
    }
   },
   "outputs": [],
   "source": [
    "from fipy import Variable, FaceVariable, CellVariable, Grid1D, TransientTerm, DiffusionTerm, Viewer\n",
    "from fipy import ImplicitSourceTerm, ConvectionTerm, ResidualTerm\n",
    "from fipy.tools import numerix\n",
    "from builtins import range"
   ]
  },
  {
   "cell_type": "markdown",
   "id": "senior-federation",
   "metadata": {},
   "source": [
    "$a$, $i0$, $F$,$D$,$\\phi_1$,$z_1$,$ct$,$R$,$T$, $c_1^0$, and $c_2^0$ are constants\n",
    "$\\phi_2$, $c_1$, and $c_2$ are time-dependent, time-evolving variables to solve for. In the problem, $z_2$ is 0 which simplifies the flux and exponent terms for $c_2$."
   ]
  },
  {
   "cell_type": "code",
   "execution_count": 5,
   "id": "documented-country",
   "metadata": {
    "ExecuteTime": {
     "end_time": "2021-03-19T16:15:25.832021Z",
     "start_time": "2021-03-19T16:15:25.826641Z"
    }
   },
   "outputs": [],
   "source": [
    "phi_0 = 0.0 # arbitrarily set to 0\n",
    "phi_app = 0.2 # Applied voltage \n",
    "c1_0 = 0.1 # M  \n",
    "c2_0 = 0.1 # M\n",
    "z1 = -1.0\n",
    "z2 = 0.\n",
    "phi_1 = phi_0 + phi_app/2 \n",
    "L = .25 # cm of electrode thickness \n",
    "por = 0.4 # porosoity \n",
    "D = 5e-5 # diffusion coefficient, cm^2/s\n",
    "a = 360. #cm^2 per cm^3, specific interfacial area for GFD2.5\n",
    "ct,R,F,T = 0.5, 8.3143, 96487., 293.\n",
    "ne, s = 1, 1\n",
    "i0 = 0.005 # from Exchange Current Densities "
   ]
  },
  {
   "cell_type": "markdown",
   "id": "wound-poison",
   "metadata": {},
   "source": [
    "Evolve in time on a 1D mesh"
   ]
  },
  {
   "cell_type": "code",
   "execution_count": 6,
   "id": "female-intake",
   "metadata": {
    "ExecuteTime": {
     "end_time": "2021-03-19T16:15:27.884803Z",
     "start_time": "2021-03-19T16:15:27.837336Z"
    }
   },
   "outputs": [],
   "source": [
    "# New code\n",
    "nx = 10000\n",
    "dx = L/nx\n",
    "mesh = Grid1D(nx=nx,dx=dx)\n",
    "x = mesh.cellCenters[0]\n",
    "dt = .01\n",
    "#dt = 0.5*dx**2/(2*D)\n",
    "steps = 100\n",
    "t = dt * steps\n",
    "time = Variable(0.)"
   ]
  },
  {
   "cell_type": "markdown",
   "id": "personal-advisory",
   "metadata": {},
   "source": [
    "$\\phi_2$, $c_1$, and $c_2$ are time-dependent, time-evolving variables to solve for."
   ]
  },
  {
   "cell_type": "code",
   "execution_count": 7,
   "id": "minimal-scanner",
   "metadata": {
    "ExecuteTime": {
     "end_time": "2021-03-19T16:15:29.695244Z",
     "start_time": "2021-03-19T16:15:29.689664Z"
    }
   },
   "outputs": [],
   "source": [
    "phi2 = CellVariable(name=\"phi2\",mesh=mesh,hasOld=True)\n",
    "c1 =  CellVariable(name=\"c1\",mesh=mesh,hasOld=True)\n",
    "c2 =  CellVariable(name=\"c2\",mesh=mesh,hasOld=True)\n",
    "phi2.setValue(phi_0)\n",
    "c1.setValue(c1_0)\n",
    "c2.setValue(c2_0)"
   ]
  },
  {
   "cell_type": "markdown",
   "id": "major-thumb",
   "metadata": {},
   "source": [
    "For simplicity, start with 0 flux boundary conditions on the bounds of x on [0,L].\n",
    "The initial conditions are:\n",
    "\n",
    "$ c_1(0,0) = c_1(L,0) = 0.1 $\n",
    "\n",
    "$ c_2(0,0) = c_2(L,0) = 0. $\n",
    "\n",
    "$ \\phi_2 (0,0) = \\phi_2 (L,0) = \\phi_0 $"
   ]
  },
  {
   "cell_type": "code",
   "execution_count": 8,
   "id": "equivalent-reward",
   "metadata": {
    "ExecuteTime": {
     "end_time": "2021-03-19T16:15:31.613367Z",
     "start_time": "2021-03-19T16:15:31.610128Z"
    }
   },
   "outputs": [],
   "source": [
    "c1.constrain(c1_0, where=mesh.exteriorFaces)\n",
    "c2.constrain(0., where=mesh.exteriorFaces)\n",
    "phi2.constrain(phi_0, where=mesh.exteriorFaces)\n",
    "\n",
    "# # No flux at x=0, dc2/dx = 0 automatically\n",
    "# # Flux for c1 has concentration & potential gradient\n",
    "# # Set up Robin BC;\n",
    "# # unsure about this set up; folllowed this website:\n",
    "# # https://www.ctcms.nist.gov/fipy/documentation/\n",
    "# #USAGE.html#applying-robin-boundary-conditions\n",
    "\n",
    "# #Make point to apply Robin BC, where x=0\n",
    "# mask = (x=0.)\n",
    "# # Create values to put into equation for phi2\n",
    "# phi_a = FaceVariable(mesh=mesh,rank=1)\n",
    "# phi_a.setValue(-2.,where=mask)\n",
    "# phi_b = FaceVariable(mesh=mesh,rank=0)\n",
    "# phi_b.setValue(1.,where=mask)\n",
    "# phi_g =  FaceVariable(mesh=mesh,rank=0)\n",
    "# phi_g.setValue(-2.0*(phi_1+phi_0),where=mask)\n",
    "\n",
    "# # Repeat for c1 whose concentration gradient \n",
    "# # cancels the migration gradient\n",
    "# c1_a = FaceVariable(mesh=mesh,rank=1)\n",
    "# c1_a.setValue(-1.,where=mask)\n",
    "# c1_b = FaceVariable(mesh=mesh,rank=0)\n",
    "# c1_b.setValue(1.,where=mask)\n",
    "\n",
    "# c1.faceGrad.constrain(0,mesh.facesRight)\n",
    "# phi2.faceGrad.constrain(0,mesh.facesRight)\n",
    "\n",
    "# # No gradients at x = L\n",
    "# c1.faceGrad.constrain(0,mesh.facesRight)\n",
    "# c2.faceGrad.constrain(0,mesh.facesRight)\n",
    "# phi2.faceGrad.constrain(0,mesh.facesRight)"
   ]
  },
  {
   "cell_type": "markdown",
   "id": "focal-bible",
   "metadata": {},
   "source": [
    "Equations for material balance and charge neutrality are\n",
    "\n",
    "$ \\frac{\\partial c_1}{\\partial t} = -\\nabla\\cdot N_1 - \\nabla\\cdot i/F $\n",
    "\n",
    "$ \\frac{\\partial c_2}{\\partial t} = -\\nabla\\cdot N_2 + \\nabla\\cdot i/F $\n",
    "\n",
    "$ \\sum{z_i \\nabla\\cdot N_i} = \\nabla\\cdot i/F $\n",
    "\n",
    "where\n",
    "\n",
    "$ N_i = -D \\nabla c_i - \\frac{D F}{R T} z_i c_i \\nabla \\phi_2 $\n",
    "\n",
    "and\n",
    "\n",
    "$ \\nabla\\cdot i = a i0/por(c_1/c_1^0 e^{z_1 ct F/(RT)(\\phi_1 - \\phi_2 - \\phi_0)} - c_2/c_2^0 e^{z_2 ct F/(RT)(\\phi_1 - \\phi_2 - \\phi_0)}) $\n",
    "\n",
    "We define combinations of constants\n",
    "\n",
    "$\\beta \\equiv ct F/(R T)$\n",
    "\n",
    "$u \\equiv D F / (R T)$\n",
    "\n",
    "$bv \\equiv a i0/(F por)$"
   ]
  },
  {
   "cell_type": "code",
   "execution_count": 9,
   "id": "parliamentary-telling",
   "metadata": {
    "ExecuteTime": {
     "end_time": "2021-03-19T16:15:33.365842Z",
     "start_time": "2021-03-19T16:15:33.362894Z"
    }
   },
   "outputs": [],
   "source": [
    "# Constants in equations\n",
    "beta = ct*F/R/T # For exponential\n",
    "mig = D*F/R/T # in front of migration term\n",
    "bv = a*i0/F/por # in front of Faradaic reaction"
   ]
  },
  {
   "cell_type": "markdown",
   "id": "previous-minutes",
   "metadata": {},
   "source": [
    "Apply the chain rule to isolate terms in each solution variable, allowing better coupling and implicitness:\n",
    "\n",
    "$-\\nabla \\cdot N_i \\equiv \\nabla \\cdot (D \\nabla c_i) + \\nabla \\cdot (u z_i c_i \\nabla \\phi_2)$\n",
    "\n",
    "such that\n",
    "\n",
    "$ \\frac{\\partial c_1}{\\partial t} = \\nabla\\cdot (D \\nabla c_1) + \\nabla\\cdot(u z_1 c_1 \\nabla \\phi_2) \n",
    "- c_1 (bv / c_1^0) e^{z_1 \\beta (\\phi_1 - \\phi_2 - \\phi_0)} + c_2 (bv / c_2^0) $\n",
    "\n",
    "Note that the Faradaic term is not implicit in $\\phi_2$, but it is implicit in $c_1$ and $c_2$."
   ]
  },
  {
   "cell_type": "code",
   "execution_count": 11,
   "id": "subtle-entrepreneur",
   "metadata": {
    "ExecuteTime": {
     "end_time": "2021-03-19T16:15:46.020661Z",
     "start_time": "2021-03-19T16:15:45.958809Z"
    }
   },
   "outputs": [],
   "source": [
    "# Equation for first species\n",
    "eq1 = (TransientTerm(var=c1) == DiffusionTerm(coeff=D,var=c1) \n",
    "    # Migration effect (is this OK??)\n",
    "    + DiffusionTerm(coeff=c1*z1*mig,var=phi2)\n",
    "    # subtract Faradaic term\n",
    "    - ImplicitSourceTerm(coeff=(bv/c1_0)*numerix.exp(z1*beta*(phi_1-phi2-phi_0)), var=c1)\n",
    "    + ImplicitSourceTerm(coeff=bv/c2_0, var=c2))"
   ]
  },
  {
   "cell_type": "markdown",
   "id": "numerous-honor",
   "metadata": {},
   "source": [
    "$ \\frac{\\partial c_2}{\\partial t} = \\nabla\\cdot (D \\nabla c_2) \n",
    "+ c_1 (bv / c_1^0) e^{z_1 \\beta (\\phi_1 - \\phi_2 - \\phi_0)} - c_2 (bv / c_2^0) $"
   ]
  },
  {
   "cell_type": "code",
   "execution_count": 13,
   "id": "excited-processing",
   "metadata": {
    "ExecuteTime": {
     "end_time": "2021-03-19T16:15:53.896354Z",
     "start_time": "2021-03-19T16:15:53.890328Z"
    }
   },
   "outputs": [],
   "source": [
    "# Equation for second species\n",
    "eq2 = (TransientTerm(var=c2) == DiffusionTerm(coeff=D,var=c2)\n",
    "    + ImplicitSourceTerm(coeff=(bv/c1_0)*numerix.exp(z1*beta*(phi_1-phi2-phi_0)), var=c1)\n",
    "    - ImplicitSourceTerm(coeff=bv/c2_0, var=c2))"
   ]
  },
  {
   "cell_type": "markdown",
   "id": "successful-member",
   "metadata": {},
   "source": [
    "$ \\nabla\\cdot (z_1 D \\nabla c_1) + \\nabla\\cdot(u z_1^2 c_1 \\nabla \\phi_2)\n",
    "+ c_1 (bv / c_1^0) e^{z_1 \\beta (\\phi_1 - \\phi_2 - \\phi_0)} - c_2 (bv / c_2^0) = 0 $"
   ]
  },
  {
   "cell_type": "code",
   "execution_count": 15,
   "id": "flexible-occasion",
   "metadata": {
    "ExecuteTime": {
     "end_time": "2021-03-19T16:16:01.315926Z",
     "start_time": "2021-03-19T16:16:01.308570Z"
    }
   },
   "outputs": [],
   "source": [
    "# Equation relating flux to current for electrolyte potential\n",
    "eq3 = (DiffusionTerm(coeff=c1*mig*z1**2,var=phi2)\n",
    "    # Add diffusion\n",
    "    # + D*z1*c1.faceGrad.divergence <- don't use this?\n",
    "    # + DiffusionTerm(coeff=z1*D*c1,var=None) <- don't use!\n",
    "    + DiffusionTerm(coeff=z1*D,var=c1)\n",
    "    # Add Faradaic contributions, \n",
    "    # can't use ImplicitSourceTerm because it's nonlinear in phi\n",
    "    + ImplicitSourceTerm(coeff=(bv/c1_0)*numerix.exp(z1*beta*(phi_1-phi2-phi_0)), var=c1)\n",
    "    - ImplicitSourceTerm(coeff=bv/c2_0, var=c2))"
   ]
  },
  {
   "cell_type": "markdown",
   "id": "interested-evolution",
   "metadata": {},
   "source": [
    "Following this [notebook demonstrating Newton-Raphson iterations](https://gist.github.com/guyer/f29c759fd7f0f01363b8483c7bc644cb), solve for variations in the solution variables $\\delta c_1$, $\\delta c_2$, and $\\delta \\phi_2$."
   ]
  },
  {
   "cell_type": "code",
   "execution_count": 16,
   "id": "acceptable-connection",
   "metadata": {
    "ExecuteTime": {
     "end_time": "2021-03-19T16:16:04.476097Z",
     "start_time": "2021-03-19T16:16:04.470565Z"
    }
   },
   "outputs": [],
   "source": [
    "# Need to do Newton steps\n",
    "deltaC1 = CellVariable(mesh=mesh,name=\"delta C1\",hasOld=True)\n",
    "deltaC2 = CellVariable(mesh=mesh,name=\"delta C2\",hasOld=True)\n",
    "deltaPhi2 = CellVariable(mesh=mesh,name=\"delta Phi2\",hasOld=True)"
   ]
  },
  {
   "cell_type": "markdown",
   "id": "resistant-stage",
   "metadata": {},
   "source": [
    "$ \\frac{\\partial \\delta c_1}{\\partial t} = \\nabla\\cdot (D \\nabla \\delta c_1) + \\nabla\\cdot(u z_1 \\delta c_1 \\nabla \\phi_2) + \\nabla\\cdot(u z_1 c_1 \\nabla \\delta \\phi_2) \n",
    "- \\delta c_1 (bv / c_1^0) e^{z_1 \\beta (\\phi_1 - \\phi_2 - \\phi_0)} \n",
    "- \\delta \\phi_2 z_1 \\beta c_1 (bv / c_1^0) e^{z_1 \\beta (\\phi_1 - \\phi_2 - \\phi_0)}\n",
    "+ \\delta c_2 (bv / c_2^0) $"
   ]
  },
  {
   "cell_type": "code",
   "execution_count": 20,
   "id": "british-execution",
   "metadata": {
    "ExecuteTime": {
     "end_time": "2021-03-19T16:17:12.153449Z",
     "start_time": "2021-03-19T16:17:12.140767Z"
    }
   },
   "outputs": [],
   "source": [
    "newton_eqC1 = ((TransientTerm(var=deltaC1)\n",
    "            == DiffusionTerm(coeff=D, var=deltaC1) \n",
    "            + ConvectionTerm(coeff=z1*mig*phi2.faceGrad,var=deltaC1)\n",
    "            + DiffusionTerm(coeff=z1*mig*c1,var=deltaPhi2)\n",
    "            # subtract Faradaic term\n",
    "            - ImplicitSourceTerm(coeff=(bv/c1_0)*numerix.exp(z1*beta*(phi_1-phi2-phi_0)), var=deltaC1)\n",
    "            - ImplicitSourceTerm(coeff=z1 * beta * c1 * (bv/c1_0)*numerix.exp(z1*beta*(phi_1-phi2-phi_0)), var=deltaPhi2)\n",
    "            + ImplicitSourceTerm(coeff=bv/c2_0, var=deltaC2))\n",
    "            + ResidualTerm(equation=eq1))"
   ]
  },
  {
   "cell_type": "markdown",
   "id": "unnecessary-register",
   "metadata": {
    "ExecuteTime": {
     "end_time": "2021-03-19T16:05:43.665212Z",
     "start_time": "2021-03-19T16:05:43.601926Z"
    }
   },
   "source": [
    "$ \\frac{\\partial \\delta c_2}{\\partial t} = \\nabla\\cdot (D \\nabla \\delta c_2) \n",
    "+ \\delta c_1 (bv / c_1^0) e^{z_1 \\beta (\\phi_1 - \\phi_2 - \\phi_0)}\n",
    "+ \\delta \\phi_2 z_1 \\beta c_1 (bv / c_1^0) e^{z_1 \\beta (\\phi_1 - \\phi_2 - \\phi_0)}\n",
    "- \\delta c_2 (bv / c_2^0) $"
   ]
  },
  {
   "cell_type": "code",
   "execution_count": 21,
   "id": "quality-buddy",
   "metadata": {
    "ExecuteTime": {
     "end_time": "2021-03-19T16:17:20.082444Z",
     "start_time": "2021-03-19T16:17:20.073015Z"
    }
   },
   "outputs": [],
   "source": [
    "newton_eqC2 = ((TransientTerm(var=deltaC2)\n",
    "            == DiffusionTerm(coeff=D,var=deltaC2) \n",
    "            # subtract Faradaic term\n",
    "            + ImplicitSourceTerm(coeff=(bv/c1_0)*numerix.exp(z1*beta*(phi_1-phi2-phi_0)), var=deltaC1)\n",
    "            + ImplicitSourceTerm(coeff=z1 * beta * c1 * (bv/c1_0)*numerix.exp(z1*beta*(phi_1-phi2-phi_0)), var=deltaPhi2)\n",
    "            - ImplicitSourceTerm(coeff=bv/c2_0, var=deltaC2))\n",
    "            + ResidualTerm(equation=eq2) )"
   ]
  },
  {
   "cell_type": "markdown",
   "id": "empirical-august",
   "metadata": {},
   "source": [
    "$ \\nabla\\cdot (z_1 D \\nabla \\delta c_1) + \\nabla\\cdot(u z_1^2 \\delta c_1 \\nabla \\phi_2)\n",
    "+ \\nabla\\cdot(u z_1^2 c_1 \\nabla \\delta \\phi_2)\n",
    "+ \\delta c_1 (bv / c_1^0) e^{z_1 \\beta (\\phi_1 - \\phi_2 - \\phi_0)}\n",
    "+ \\delta \\phi_2 z_1 \\beta c_1 (bv / c_1^0) e^{z_1 \\beta (\\phi_1 - \\phi_2 - \\phi_0)}\n",
    "- \\delta c_2 (bv / c_2^0) = 0 $"
   ]
  },
  {
   "cell_type": "code",
   "execution_count": 22,
   "id": "controlled-bowling",
   "metadata": {
    "ExecuteTime": {
     "end_time": "2021-03-19T16:17:32.992966Z",
     "start_time": "2021-03-19T16:17:32.983325Z"
    }
   },
   "outputs": [],
   "source": [
    "newton_eqPhi2 = (( DiffusionTerm(coeff=z1*D,var=deltaC1) \n",
    "            + DiffusionTerm(coeff=mig*z1**2*phi2.faceGrad,var=deltaC1)\n",
    "            + DiffusionTerm(coeff=mig*z1**2*c1,var=deltaPhi2)\n",
    "            # add Faradaic term\n",
    "            + ImplicitSourceTerm(coeff=(bv/c1_0)*numerix.exp(z1*beta*(phi_1-phi2-phi_0)), var=deltaC1)\n",
    "            + ImplicitSourceTerm(coeff=z1 * beta * c1 * (bv/c1_0)*numerix.exp(z1*beta*(phi_1-phi2-phi_0)), var=deltaPhi2)\n",
    "            - ImplicitSourceTerm(coeff=bv/c2_0, var=deltaC2))\n",
    "            + ResidualTerm(equation=eq3))"
   ]
  },
  {
   "cell_type": "markdown",
   "id": "broken-communist",
   "metadata": {},
   "source": [
    "$c_1$, $c_2$, and $\\phi_2$ are fixed by their boundary conditions, so their variations at the boundaries should be fixed at zero"
   ]
  },
  {
   "cell_type": "code",
   "execution_count": 23,
   "id": "respiratory-suggestion",
   "metadata": {
    "ExecuteTime": {
     "end_time": "2021-03-19T16:17:35.586313Z",
     "start_time": "2021-03-19T16:17:35.583449Z"
    }
   },
   "outputs": [],
   "source": [
    "deltaC1.constrain(0.,where=mesh.exteriorFaces)\n",
    "deltaC2.constrain(0.,where=mesh.exteriorFaces)\n",
    "deltaPhi2.constrain(0.,where=mesh.exteriorFaces)\n",
    "\n",
    "# Set values for c1,c2,phi2, and their deltas to 0.?."
   ]
  },
  {
   "cell_type": "markdown",
   "id": "polar-inside",
   "metadata": {},
   "source": [
    "Solve"
   ]
  },
  {
   "cell_type": "code",
   "execution_count": 24,
   "id": "worthy-artist",
   "metadata": {
    "ExecuteTime": {
     "end_time": "2021-03-19T16:17:46.806045Z",
     "start_time": "2021-03-19T16:17:46.196952Z"
    }
   },
   "outputs": [
    {
     "ename": "IndexError",
     "evalue": "diffusion coefficient tensor is not an appropriate shape for this mesh",
     "output_type": "error",
     "traceback": [
      "\u001b[0;31m---------------------------------------------------------------------------\u001b[0m",
      "\u001b[0;31mIndexError\u001b[0m                                Traceback (most recent call last)",
      "\u001b[0;32m<ipython-input-24-3e3242b616db>\u001b[0m in \u001b[0;36m<module>\u001b[0;34m\u001b[0m\n\u001b[1;32m     12\u001b[0m     \u001b[0mres_c1\u001b[0m \u001b[0;34m=\u001b[0m \u001b[0mnewton_eqC1\u001b[0m\u001b[0;34m.\u001b[0m\u001b[0msweep\u001b[0m\u001b[0;34m(\u001b[0m\u001b[0mdt\u001b[0m\u001b[0;34m=\u001b[0m\u001b[0;36m1\u001b[0m\u001b[0;34m)\u001b[0m\u001b[0;34m\u001b[0m\u001b[0;34m\u001b[0m\u001b[0m\n\u001b[1;32m     13\u001b[0m     \u001b[0mres_c2\u001b[0m \u001b[0;34m=\u001b[0m \u001b[0mnewton_eqC2\u001b[0m\u001b[0;34m.\u001b[0m\u001b[0msweep\u001b[0m\u001b[0;34m(\u001b[0m\u001b[0mdt\u001b[0m\u001b[0;34m=\u001b[0m\u001b[0;36m1\u001b[0m\u001b[0;34m)\u001b[0m\u001b[0;34m\u001b[0m\u001b[0;34m\u001b[0m\u001b[0m\n\u001b[0;32m---> 14\u001b[0;31m     \u001b[0mres_phi2\u001b[0m \u001b[0;34m=\u001b[0m \u001b[0mnewton_eqPhi2\u001b[0m\u001b[0;34m.\u001b[0m\u001b[0msweep\u001b[0m\u001b[0;34m(\u001b[0m\u001b[0mdt\u001b[0m\u001b[0;34m=\u001b[0m\u001b[0;36m1\u001b[0m\u001b[0;34m)\u001b[0m\u001b[0;34m\u001b[0m\u001b[0;34m\u001b[0m\u001b[0m\n\u001b[0m\u001b[1;32m     15\u001b[0m     \u001b[0mnewtonC1\u001b[0m\u001b[0;34m.\u001b[0m\u001b[0mappend\u001b[0m\u001b[0;34m(\u001b[0m\u001b[0;34m[\u001b[0m\u001b[0msweep\u001b[0m\u001b[0;34m,\u001b[0m\u001b[0mres_c1\u001b[0m\u001b[0;34m,\u001b[0m\u001b[0mmax\u001b[0m\u001b[0;34m(\u001b[0m\u001b[0mabs\u001b[0m\u001b[0;34m(\u001b[0m\u001b[0mdeltaC1\u001b[0m\u001b[0;34m)\u001b[0m\u001b[0;34m)\u001b[0m\u001b[0;34m]\u001b[0m\u001b[0;34m)\u001b[0m\u001b[0;34m\u001b[0m\u001b[0;34m\u001b[0m\u001b[0m\n\u001b[1;32m     16\u001b[0m     \u001b[0mnewtonC2\u001b[0m\u001b[0;34m.\u001b[0m\u001b[0mappend\u001b[0m\u001b[0;34m(\u001b[0m\u001b[0;34m[\u001b[0m\u001b[0msweep\u001b[0m\u001b[0;34m,\u001b[0m\u001b[0mres_c2\u001b[0m\u001b[0;34m,\u001b[0m\u001b[0mmax\u001b[0m\u001b[0;34m(\u001b[0m\u001b[0mabs\u001b[0m\u001b[0;34m(\u001b[0m\u001b[0mdeltaC2\u001b[0m\u001b[0;34m)\u001b[0m\u001b[0;34m)\u001b[0m\u001b[0;34m]\u001b[0m\u001b[0;34m)\u001b[0m\u001b[0;34m\u001b[0m\u001b[0;34m\u001b[0m\u001b[0m\n",
      "\u001b[0;32m~/Documents/research/FiPy/fipy/fipy/terms/term.py\u001b[0m in \u001b[0;36msweep\u001b[0;34m(self, var, solver, boundaryConditions, dt, underRelaxation, residualFn, cacheResidual, cacheError)\u001b[0m\n\u001b[1;32m    212\u001b[0m             \u001b[0;31m`\u001b[0m\u001b[0mTerm\u001b[0m\u001b[0;31m`\u001b[0m\u001b[0;34m\u001b[0m\u001b[0;34m\u001b[0m\u001b[0m\n\u001b[1;32m    213\u001b[0m         \"\"\"\n\u001b[0;32m--> 214\u001b[0;31m         \u001b[0msolver\u001b[0m \u001b[0;34m=\u001b[0m \u001b[0mself\u001b[0m\u001b[0;34m.\u001b[0m\u001b[0m_prepareLinearSystem\u001b[0m\u001b[0;34m(\u001b[0m\u001b[0mvar\u001b[0m\u001b[0;34m=\u001b[0m\u001b[0mvar\u001b[0m\u001b[0;34m,\u001b[0m \u001b[0msolver\u001b[0m\u001b[0;34m=\u001b[0m\u001b[0msolver\u001b[0m\u001b[0;34m,\u001b[0m \u001b[0mboundaryConditions\u001b[0m\u001b[0;34m=\u001b[0m\u001b[0mboundaryConditions\u001b[0m\u001b[0;34m,\u001b[0m \u001b[0mdt\u001b[0m\u001b[0;34m=\u001b[0m\u001b[0mdt\u001b[0m\u001b[0;34m)\u001b[0m\u001b[0;34m\u001b[0m\u001b[0;34m\u001b[0m\u001b[0m\n\u001b[0m\u001b[1;32m    215\u001b[0m         \u001b[0msolver\u001b[0m\u001b[0;34m.\u001b[0m\u001b[0m_applyUnderRelaxation\u001b[0m\u001b[0;34m(\u001b[0m\u001b[0munderRelaxation\u001b[0m\u001b[0;34m=\u001b[0m\u001b[0munderRelaxation\u001b[0m\u001b[0;34m)\u001b[0m\u001b[0;34m\u001b[0m\u001b[0;34m\u001b[0m\u001b[0m\n\u001b[1;32m    216\u001b[0m         \u001b[0mresidual\u001b[0m \u001b[0;34m=\u001b[0m \u001b[0msolver\u001b[0m\u001b[0;34m.\u001b[0m\u001b[0m_calcResidual\u001b[0m\u001b[0;34m(\u001b[0m\u001b[0mresidualFn\u001b[0m\u001b[0;34m=\u001b[0m\u001b[0mresidualFn\u001b[0m\u001b[0;34m)\u001b[0m\u001b[0;34m\u001b[0m\u001b[0;34m\u001b[0m\u001b[0m\n",
      "\u001b[0;32m~/Documents/research/FiPy/fipy/fipy/terms/term.py\u001b[0m in \u001b[0;36m_prepareLinearSystem\u001b[0;34m(self, var, solver, boundaryConditions, dt)\u001b[0m\n\u001b[1;32m    127\u001b[0m                                                            \u001b[0mdt\u001b[0m\u001b[0;34m=\u001b[0m\u001b[0mdt\u001b[0m\u001b[0;34m,\u001b[0m\u001b[0;34m\u001b[0m\u001b[0;34m\u001b[0m\u001b[0m\n\u001b[1;32m    128\u001b[0m                                                            \u001b[0mtransientGeomCoeff\u001b[0m\u001b[0;34m=\u001b[0m\u001b[0mself\u001b[0m\u001b[0;34m.\u001b[0m\u001b[0m_getTransientGeomCoeff\u001b[0m\u001b[0;34m(\u001b[0m\u001b[0mvar\u001b[0m\u001b[0;34m)\u001b[0m\u001b[0;34m,\u001b[0m\u001b[0;34m\u001b[0m\u001b[0;34m\u001b[0m\u001b[0m\n\u001b[0;32m--> 129\u001b[0;31m                                                            \u001b[0mdiffusionGeomCoeff\u001b[0m\u001b[0;34m=\u001b[0m\u001b[0mself\u001b[0m\u001b[0;34m.\u001b[0m\u001b[0m_getDiffusionGeomCoeff\u001b[0m\u001b[0;34m(\u001b[0m\u001b[0mvar\u001b[0m\u001b[0;34m)\u001b[0m\u001b[0;34m,\u001b[0m\u001b[0;34m\u001b[0m\u001b[0;34m\u001b[0m\u001b[0m\n\u001b[0m\u001b[1;32m    130\u001b[0m                                                            buildExplicitIfOther=self._buildExplcitIfOther)\n\u001b[1;32m    131\u001b[0m \u001b[0;34m\u001b[0m\u001b[0m\n",
      "\u001b[0;32m~/Documents/research/FiPy/fipy/fipy/terms/binaryTerm.py\u001b[0m in \u001b[0;36m_getDiffusionGeomCoeff\u001b[0;34m(self, var)\u001b[0m\n\u001b[1;32m     63\u001b[0m \u001b[0;34m\u001b[0m\u001b[0m\n\u001b[1;32m     64\u001b[0m     \u001b[0;32mdef\u001b[0m \u001b[0m_getDiffusionGeomCoeff\u001b[0m\u001b[0;34m(\u001b[0m\u001b[0mself\u001b[0m\u001b[0;34m,\u001b[0m \u001b[0mvar\u001b[0m\u001b[0;34m)\u001b[0m\u001b[0;34m:\u001b[0m\u001b[0;34m\u001b[0m\u001b[0;34m\u001b[0m\u001b[0m\n\u001b[0;32m---> 65\u001b[0;31m         \u001b[0;32mreturn\u001b[0m \u001b[0mself\u001b[0m\u001b[0;34m.\u001b[0m\u001b[0m_addNone\u001b[0m\u001b[0;34m(\u001b[0m\u001b[0mself\u001b[0m\u001b[0;34m.\u001b[0m\u001b[0mterm\u001b[0m\u001b[0;34m.\u001b[0m\u001b[0m_getDiffusionGeomCoeff\u001b[0m\u001b[0;34m(\u001b[0m\u001b[0mvar\u001b[0m\u001b[0;34m)\u001b[0m\u001b[0;34m,\u001b[0m \u001b[0mself\u001b[0m\u001b[0;34m.\u001b[0m\u001b[0mother\u001b[0m\u001b[0;34m.\u001b[0m\u001b[0m_getDiffusionGeomCoeff\u001b[0m\u001b[0;34m(\u001b[0m\u001b[0mvar\u001b[0m\u001b[0;34m)\u001b[0m\u001b[0;34m)\u001b[0m\u001b[0;34m\u001b[0m\u001b[0;34m\u001b[0m\u001b[0m\n\u001b[0m\u001b[1;32m     66\u001b[0m \u001b[0;34m\u001b[0m\u001b[0m\n\u001b[1;32m     67\u001b[0m     \u001b[0m__rmul__\u001b[0m \u001b[0;34m=\u001b[0m \u001b[0m__mul__\u001b[0m\u001b[0;34m\u001b[0m\u001b[0;34m\u001b[0m\u001b[0m\n",
      "\u001b[0;32m~/Documents/research/FiPy/fipy/fipy/terms/binaryTerm.py\u001b[0m in \u001b[0;36m_getDiffusionGeomCoeff\u001b[0;34m(self, var)\u001b[0m\n\u001b[1;32m     63\u001b[0m \u001b[0;34m\u001b[0m\u001b[0m\n\u001b[1;32m     64\u001b[0m     \u001b[0;32mdef\u001b[0m \u001b[0m_getDiffusionGeomCoeff\u001b[0m\u001b[0;34m(\u001b[0m\u001b[0mself\u001b[0m\u001b[0;34m,\u001b[0m \u001b[0mvar\u001b[0m\u001b[0;34m)\u001b[0m\u001b[0;34m:\u001b[0m\u001b[0;34m\u001b[0m\u001b[0;34m\u001b[0m\u001b[0m\n\u001b[0;32m---> 65\u001b[0;31m         \u001b[0;32mreturn\u001b[0m \u001b[0mself\u001b[0m\u001b[0;34m.\u001b[0m\u001b[0m_addNone\u001b[0m\u001b[0;34m(\u001b[0m\u001b[0mself\u001b[0m\u001b[0;34m.\u001b[0m\u001b[0mterm\u001b[0m\u001b[0;34m.\u001b[0m\u001b[0m_getDiffusionGeomCoeff\u001b[0m\u001b[0;34m(\u001b[0m\u001b[0mvar\u001b[0m\u001b[0;34m)\u001b[0m\u001b[0;34m,\u001b[0m \u001b[0mself\u001b[0m\u001b[0;34m.\u001b[0m\u001b[0mother\u001b[0m\u001b[0;34m.\u001b[0m\u001b[0m_getDiffusionGeomCoeff\u001b[0m\u001b[0;34m(\u001b[0m\u001b[0mvar\u001b[0m\u001b[0;34m)\u001b[0m\u001b[0;34m)\u001b[0m\u001b[0;34m\u001b[0m\u001b[0;34m\u001b[0m\u001b[0m\n\u001b[0m\u001b[1;32m     66\u001b[0m \u001b[0;34m\u001b[0m\u001b[0m\n\u001b[1;32m     67\u001b[0m     \u001b[0m__rmul__\u001b[0m \u001b[0;34m=\u001b[0m \u001b[0m__mul__\u001b[0m\u001b[0;34m\u001b[0m\u001b[0;34m\u001b[0m\u001b[0m\n",
      "\u001b[0;32m~/Documents/research/FiPy/fipy/fipy/terms/binaryTerm.py\u001b[0m in \u001b[0;36m_getDiffusionGeomCoeff\u001b[0;34m(self, var)\u001b[0m\n\u001b[1;32m     63\u001b[0m \u001b[0;34m\u001b[0m\u001b[0m\n\u001b[1;32m     64\u001b[0m     \u001b[0;32mdef\u001b[0m \u001b[0m_getDiffusionGeomCoeff\u001b[0m\u001b[0;34m(\u001b[0m\u001b[0mself\u001b[0m\u001b[0;34m,\u001b[0m \u001b[0mvar\u001b[0m\u001b[0;34m)\u001b[0m\u001b[0;34m:\u001b[0m\u001b[0;34m\u001b[0m\u001b[0;34m\u001b[0m\u001b[0m\n\u001b[0;32m---> 65\u001b[0;31m         \u001b[0;32mreturn\u001b[0m \u001b[0mself\u001b[0m\u001b[0;34m.\u001b[0m\u001b[0m_addNone\u001b[0m\u001b[0;34m(\u001b[0m\u001b[0mself\u001b[0m\u001b[0;34m.\u001b[0m\u001b[0mterm\u001b[0m\u001b[0;34m.\u001b[0m\u001b[0m_getDiffusionGeomCoeff\u001b[0m\u001b[0;34m(\u001b[0m\u001b[0mvar\u001b[0m\u001b[0;34m)\u001b[0m\u001b[0;34m,\u001b[0m \u001b[0mself\u001b[0m\u001b[0;34m.\u001b[0m\u001b[0mother\u001b[0m\u001b[0;34m.\u001b[0m\u001b[0m_getDiffusionGeomCoeff\u001b[0m\u001b[0;34m(\u001b[0m\u001b[0mvar\u001b[0m\u001b[0;34m)\u001b[0m\u001b[0;34m)\u001b[0m\u001b[0;34m\u001b[0m\u001b[0;34m\u001b[0m\u001b[0m\n\u001b[0m\u001b[1;32m     66\u001b[0m \u001b[0;34m\u001b[0m\u001b[0m\n\u001b[1;32m     67\u001b[0m     \u001b[0m__rmul__\u001b[0m \u001b[0;34m=\u001b[0m \u001b[0m__mul__\u001b[0m\u001b[0;34m\u001b[0m\u001b[0;34m\u001b[0m\u001b[0m\n",
      "\u001b[0;32m~/Documents/research/FiPy/fipy/fipy/terms/binaryTerm.py\u001b[0m in \u001b[0;36m_getDiffusionGeomCoeff\u001b[0;34m(self, var)\u001b[0m\n\u001b[1;32m     63\u001b[0m \u001b[0;34m\u001b[0m\u001b[0m\n\u001b[1;32m     64\u001b[0m     \u001b[0;32mdef\u001b[0m \u001b[0m_getDiffusionGeomCoeff\u001b[0m\u001b[0;34m(\u001b[0m\u001b[0mself\u001b[0m\u001b[0;34m,\u001b[0m \u001b[0mvar\u001b[0m\u001b[0;34m)\u001b[0m\u001b[0;34m:\u001b[0m\u001b[0;34m\u001b[0m\u001b[0;34m\u001b[0m\u001b[0m\n\u001b[0;32m---> 65\u001b[0;31m         \u001b[0;32mreturn\u001b[0m \u001b[0mself\u001b[0m\u001b[0;34m.\u001b[0m\u001b[0m_addNone\u001b[0m\u001b[0;34m(\u001b[0m\u001b[0mself\u001b[0m\u001b[0;34m.\u001b[0m\u001b[0mterm\u001b[0m\u001b[0;34m.\u001b[0m\u001b[0m_getDiffusionGeomCoeff\u001b[0m\u001b[0;34m(\u001b[0m\u001b[0mvar\u001b[0m\u001b[0;34m)\u001b[0m\u001b[0;34m,\u001b[0m \u001b[0mself\u001b[0m\u001b[0;34m.\u001b[0m\u001b[0mother\u001b[0m\u001b[0;34m.\u001b[0m\u001b[0m_getDiffusionGeomCoeff\u001b[0m\u001b[0;34m(\u001b[0m\u001b[0mvar\u001b[0m\u001b[0;34m)\u001b[0m\u001b[0;34m)\u001b[0m\u001b[0;34m\u001b[0m\u001b[0;34m\u001b[0m\u001b[0m\n\u001b[0m\u001b[1;32m     66\u001b[0m \u001b[0;34m\u001b[0m\u001b[0m\n\u001b[1;32m     67\u001b[0m     \u001b[0m__rmul__\u001b[0m \u001b[0;34m=\u001b[0m \u001b[0m__mul__\u001b[0m\u001b[0;34m\u001b[0m\u001b[0;34m\u001b[0m\u001b[0m\n",
      "\u001b[0;32m~/Documents/research/FiPy/fipy/fipy/terms/binaryTerm.py\u001b[0m in \u001b[0;36m_getDiffusionGeomCoeff\u001b[0;34m(self, var)\u001b[0m\n\u001b[1;32m     63\u001b[0m \u001b[0;34m\u001b[0m\u001b[0m\n\u001b[1;32m     64\u001b[0m     \u001b[0;32mdef\u001b[0m \u001b[0m_getDiffusionGeomCoeff\u001b[0m\u001b[0;34m(\u001b[0m\u001b[0mself\u001b[0m\u001b[0;34m,\u001b[0m \u001b[0mvar\u001b[0m\u001b[0;34m)\u001b[0m\u001b[0;34m:\u001b[0m\u001b[0;34m\u001b[0m\u001b[0;34m\u001b[0m\u001b[0m\n\u001b[0;32m---> 65\u001b[0;31m         \u001b[0;32mreturn\u001b[0m \u001b[0mself\u001b[0m\u001b[0;34m.\u001b[0m\u001b[0m_addNone\u001b[0m\u001b[0;34m(\u001b[0m\u001b[0mself\u001b[0m\u001b[0;34m.\u001b[0m\u001b[0mterm\u001b[0m\u001b[0;34m.\u001b[0m\u001b[0m_getDiffusionGeomCoeff\u001b[0m\u001b[0;34m(\u001b[0m\u001b[0mvar\u001b[0m\u001b[0;34m)\u001b[0m\u001b[0;34m,\u001b[0m \u001b[0mself\u001b[0m\u001b[0;34m.\u001b[0m\u001b[0mother\u001b[0m\u001b[0;34m.\u001b[0m\u001b[0m_getDiffusionGeomCoeff\u001b[0m\u001b[0;34m(\u001b[0m\u001b[0mvar\u001b[0m\u001b[0;34m)\u001b[0m\u001b[0;34m)\u001b[0m\u001b[0;34m\u001b[0m\u001b[0;34m\u001b[0m\u001b[0m\n\u001b[0m\u001b[1;32m     66\u001b[0m \u001b[0;34m\u001b[0m\u001b[0m\n\u001b[1;32m     67\u001b[0m     \u001b[0m__rmul__\u001b[0m \u001b[0;34m=\u001b[0m \u001b[0m__mul__\u001b[0m\u001b[0;34m\u001b[0m\u001b[0;34m\u001b[0m\u001b[0m\n",
      "\u001b[0;32m~/Documents/research/FiPy/fipy/fipy/terms/binaryTerm.py\u001b[0m in \u001b[0;36m_getDiffusionGeomCoeff\u001b[0;34m(self, var)\u001b[0m\n\u001b[1;32m     63\u001b[0m \u001b[0;34m\u001b[0m\u001b[0m\n\u001b[1;32m     64\u001b[0m     \u001b[0;32mdef\u001b[0m \u001b[0m_getDiffusionGeomCoeff\u001b[0m\u001b[0;34m(\u001b[0m\u001b[0mself\u001b[0m\u001b[0;34m,\u001b[0m \u001b[0mvar\u001b[0m\u001b[0;34m)\u001b[0m\u001b[0;34m:\u001b[0m\u001b[0;34m\u001b[0m\u001b[0;34m\u001b[0m\u001b[0m\n\u001b[0;32m---> 65\u001b[0;31m         \u001b[0;32mreturn\u001b[0m \u001b[0mself\u001b[0m\u001b[0;34m.\u001b[0m\u001b[0m_addNone\u001b[0m\u001b[0;34m(\u001b[0m\u001b[0mself\u001b[0m\u001b[0;34m.\u001b[0m\u001b[0mterm\u001b[0m\u001b[0;34m.\u001b[0m\u001b[0m_getDiffusionGeomCoeff\u001b[0m\u001b[0;34m(\u001b[0m\u001b[0mvar\u001b[0m\u001b[0;34m)\u001b[0m\u001b[0;34m,\u001b[0m \u001b[0mself\u001b[0m\u001b[0;34m.\u001b[0m\u001b[0mother\u001b[0m\u001b[0;34m.\u001b[0m\u001b[0m_getDiffusionGeomCoeff\u001b[0m\u001b[0;34m(\u001b[0m\u001b[0mvar\u001b[0m\u001b[0;34m)\u001b[0m\u001b[0;34m)\u001b[0m\u001b[0;34m\u001b[0m\u001b[0;34m\u001b[0m\u001b[0m\n\u001b[0m\u001b[1;32m     66\u001b[0m \u001b[0;34m\u001b[0m\u001b[0m\n\u001b[1;32m     67\u001b[0m     \u001b[0m__rmul__\u001b[0m \u001b[0;34m=\u001b[0m \u001b[0m__mul__\u001b[0m\u001b[0;34m\u001b[0m\u001b[0;34m\u001b[0m\u001b[0m\n",
      "\u001b[0;32m~/Documents/research/FiPy/fipy/fipy/terms/abstractDiffusionTerm.py\u001b[0m in \u001b[0;36m_getDiffusionGeomCoeff\u001b[0;34m(self, var)\u001b[0m\n\u001b[1;32m    425\u001b[0m     \u001b[0;32mdef\u001b[0m \u001b[0m_getDiffusionGeomCoeff\u001b[0m\u001b[0;34m(\u001b[0m\u001b[0mself\u001b[0m\u001b[0;34m,\u001b[0m \u001b[0mvar\u001b[0m\u001b[0;34m)\u001b[0m\u001b[0;34m:\u001b[0m\u001b[0;34m\u001b[0m\u001b[0;34m\u001b[0m\u001b[0m\n\u001b[1;32m    426\u001b[0m         \u001b[0;32mif\u001b[0m \u001b[0mvar\u001b[0m \u001b[0;32mis\u001b[0m \u001b[0mself\u001b[0m\u001b[0;34m.\u001b[0m\u001b[0mvar\u001b[0m \u001b[0;32mor\u001b[0m \u001b[0mself\u001b[0m\u001b[0;34m.\u001b[0m\u001b[0mvar\u001b[0m \u001b[0;32mis\u001b[0m \u001b[0;32mNone\u001b[0m\u001b[0;34m:\u001b[0m\u001b[0;34m\u001b[0m\u001b[0;34m\u001b[0m\u001b[0m\n\u001b[0;32m--> 427\u001b[0;31m             \u001b[0;32mreturn\u001b[0m \u001b[0mself\u001b[0m\u001b[0;34m.\u001b[0m\u001b[0m_getGeomCoeff\u001b[0m\u001b[0;34m(\u001b[0m\u001b[0mvar\u001b[0m\u001b[0;34m)\u001b[0m\u001b[0;34m\u001b[0m\u001b[0;34m\u001b[0m\u001b[0m\n\u001b[0m\u001b[1;32m    428\u001b[0m         \u001b[0;32melse\u001b[0m\u001b[0;34m:\u001b[0m\u001b[0;34m\u001b[0m\u001b[0;34m\u001b[0m\u001b[0m\n\u001b[1;32m    429\u001b[0m             \u001b[0;32mreturn\u001b[0m \u001b[0;32mNone\u001b[0m\u001b[0;34m\u001b[0m\u001b[0;34m\u001b[0m\u001b[0m\n",
      "\u001b[0;32m~/Documents/research/FiPy/fipy/fipy/terms/term.py\u001b[0m in \u001b[0;36m_getGeomCoeff\u001b[0;34m(self, var)\u001b[0m\n\u001b[1;32m    457\u001b[0m     \u001b[0;32mdef\u001b[0m \u001b[0m_getGeomCoeff\u001b[0m\u001b[0;34m(\u001b[0m\u001b[0mself\u001b[0m\u001b[0;34m,\u001b[0m \u001b[0mvar\u001b[0m\u001b[0;34m)\u001b[0m\u001b[0;34m:\u001b[0m\u001b[0;34m\u001b[0m\u001b[0;34m\u001b[0m\u001b[0m\n\u001b[1;32m    458\u001b[0m         \u001b[0;32mif\u001b[0m \u001b[0mself\u001b[0m\u001b[0;34m.\u001b[0m\u001b[0mgeomCoeff\u001b[0m \u001b[0;32mis\u001b[0m \u001b[0;32mNone\u001b[0m\u001b[0;34m:\u001b[0m\u001b[0;34m\u001b[0m\u001b[0;34m\u001b[0m\u001b[0m\n\u001b[0;32m--> 459\u001b[0;31m             \u001b[0mself\u001b[0m\u001b[0;34m.\u001b[0m\u001b[0mgeomCoeff\u001b[0m \u001b[0;34m=\u001b[0m \u001b[0mself\u001b[0m\u001b[0;34m.\u001b[0m\u001b[0m_calcGeomCoeff\u001b[0m\u001b[0;34m(\u001b[0m\u001b[0mvar\u001b[0m\u001b[0;34m)\u001b[0m\u001b[0;34m\u001b[0m\u001b[0;34m\u001b[0m\u001b[0m\n\u001b[0m\u001b[1;32m    460\u001b[0m             \u001b[0;32mif\u001b[0m \u001b[0mself\u001b[0m\u001b[0;34m.\u001b[0m\u001b[0mgeomCoeff\u001b[0m \u001b[0;32mis\u001b[0m \u001b[0;32mnot\u001b[0m \u001b[0;32mNone\u001b[0m\u001b[0;34m:\u001b[0m\u001b[0;34m\u001b[0m\u001b[0;34m\u001b[0m\u001b[0m\n\u001b[1;32m    461\u001b[0m                 \u001b[0mself\u001b[0m\u001b[0;34m.\u001b[0m\u001b[0mgeomCoeff\u001b[0m\u001b[0;34m.\u001b[0m\u001b[0mdontCacheMe\u001b[0m\u001b[0;34m(\u001b[0m\u001b[0;34m)\u001b[0m\u001b[0;34m\u001b[0m\u001b[0;34m\u001b[0m\u001b[0m\n",
      "\u001b[0;32m~/Documents/research/FiPy/fipy/fipy/terms/abstractDiffusionTerm.py\u001b[0m in \u001b[0;36m_calcGeomCoeff\u001b[0;34m(self, var)\u001b[0m\n\u001b[1;32m    154\u001b[0m                     \u001b[0mshape\u001b[0m \u001b[0;34m=\u001b[0m \u001b[0mnumerix\u001b[0m\u001b[0;34m.\u001b[0m\u001b[0mgetShape\u001b[0m\u001b[0;34m(\u001b[0m\u001b[0mcoeff\u001b[0m\u001b[0;34m)\u001b[0m\u001b[0;34m\u001b[0m\u001b[0;34m\u001b[0m\u001b[0m\n\u001b[1;32m    155\u001b[0m                     \u001b[0;32mif\u001b[0m \u001b[0mmesh\u001b[0m\u001b[0;34m.\u001b[0m\u001b[0mdim\u001b[0m \u001b[0;34m!=\u001b[0m \u001b[0mshape\u001b[0m\u001b[0;34m[\u001b[0m\u001b[0;36m0\u001b[0m\u001b[0;34m]\u001b[0m \u001b[0;32mor\u001b[0m \u001b[0mmesh\u001b[0m\u001b[0;34m.\u001b[0m\u001b[0mdim\u001b[0m \u001b[0;34m!=\u001b[0m \u001b[0mshape\u001b[0m\u001b[0;34m[\u001b[0m\u001b[0;36m1\u001b[0m\u001b[0;34m]\u001b[0m\u001b[0;34m:\u001b[0m\u001b[0;34m\u001b[0m\u001b[0;34m\u001b[0m\u001b[0m\n\u001b[0;32m--> 156\u001b[0;31m                         \u001b[0;32mraise\u001b[0m \u001b[0mIndexError\u001b[0m\u001b[0;34m(\u001b[0m\u001b[0;34m'diffusion coefficient tensor is not an appropriate shape for this mesh'\u001b[0m\u001b[0;34m)\u001b[0m\u001b[0;34m\u001b[0m\u001b[0;34m\u001b[0m\u001b[0m\n\u001b[0m\u001b[1;32m    157\u001b[0m \u001b[0;34m\u001b[0m\u001b[0m\n\u001b[1;32m    158\u001b[0m                 \u001b[0mfaceNormals\u001b[0m \u001b[0;34m=\u001b[0m \u001b[0mFaceVariable\u001b[0m\u001b[0;34m(\u001b[0m\u001b[0mmesh\u001b[0m\u001b[0;34m=\u001b[0m\u001b[0mmesh\u001b[0m\u001b[0;34m,\u001b[0m \u001b[0mrank\u001b[0m\u001b[0;34m=\u001b[0m\u001b[0;36m1\u001b[0m\u001b[0;34m,\u001b[0m \u001b[0mvalue\u001b[0m\u001b[0;34m=\u001b[0m\u001b[0mmesh\u001b[0m\u001b[0;34m.\u001b[0m\u001b[0mfaceNormals\u001b[0m\u001b[0;34m)\u001b[0m\u001b[0;34m\u001b[0m\u001b[0;34m\u001b[0m\u001b[0m\n",
      "\u001b[0;31mIndexError\u001b[0m: diffusion coefficient tensor is not an appropriate shape for this mesh"
     ]
    }
   ],
   "source": [
    "newtonC1 = []\n",
    "newtonC2 = []\n",
    "newtonPhi2 = []\n",
    "\n",
    "c1.updateOld()\n",
    "c2.updateOld()\n",
    "phi2.updateOld()\n",
    "deltaC1.updateOld()\n",
    "deltaC2.updateOld()\n",
    "deltaPhi2.updateOld()\n",
    "for sweep in range(20):\n",
    "    res_c1 = newton_eqC1.sweep(dt=1)\n",
    "    res_c2 = newton_eqC2.sweep(dt=1)\n",
    "    res_phi2 = newton_eqPhi2.sweep(dt=1)\n",
    "    newtonC1.append([sweep,res_c1,max(abs(deltaC1))])\n",
    "    newtonC2.append([sweep,res_c2,max(abs(deltaC2))])\n",
    "    newtonPhi2.append([sweep,res_phi2,max(abs(deltaPhi2))])"
   ]
  },
  {
   "cell_type": "code",
   "execution_count": null,
   "id": "individual-mobility",
   "metadata": {},
   "outputs": [],
   "source": []
  }
 ],
 "metadata": {
  "kernelspec": {
   "display_name": "Python 3",
   "language": "python",
   "name": "python3"
  },
  "language_info": {
   "codemirror_mode": {
    "name": "ipython",
    "version": 3
   },
   "file_extension": ".py",
   "mimetype": "text/x-python",
   "name": "python",
   "nbconvert_exporter": "python",
   "pygments_lexer": "ipython3",
   "version": "3.8.6"
  },
  "toc": {
   "base_numbering": 1,
   "nav_menu": {},
   "number_sections": true,
   "sideBar": true,
   "skip_h1_title": false,
   "title_cell": "Table of Contents",
   "title_sidebar": "Contents",
   "toc_cell": false,
   "toc_position": {},
   "toc_section_display": true,
   "toc_window_display": false
  }
 },
 "nbformat": 4,
 "nbformat_minor": 5
}
